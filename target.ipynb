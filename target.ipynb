{
 "cells": [
  {
   "cell_type": "code",
   "execution_count": 6,
   "metadata": {},
   "outputs": [
    {
     "name": "stdout",
     "output_type": "stream",
     "text": [
      "found 0 devices\n",
      "could not find target bluetooth device nearby\n"
     ]
    }
   ],
   "source": [
    "import bluetooth\n",
    "\n",
    "target_name = None\n",
    "target_address = \"FC:8F:90:2D:B4:5C\"\n",
    "nearby_devices = bluetooth.discover_devices()\n",
    "print(\"found %d devices\" % len(nearby_devices))\n",
    "for addr in nearby_devices:\n",
    "    if target_address == addr:\n",
    "        target_name = bluetooth.lookup_name(addr) \n",
    "        break\n",
    "\n",
    "if target_address is not None:\n",
    "    print (\"found target bluetooth device with address \", target_address)\n",
    "else:\n",
    "    print (\"could not find target bluetooth device nearby\")"
   ]
  }
 ],
 "metadata": {
  "kernelspec": {
   "display_name": "tf",
   "language": "python",
   "name": "python3"
  },
  "language_info": {
   "codemirror_mode": {
    "name": "ipython",
    "version": 3
   },
   "file_extension": ".py",
   "mimetype": "text/x-python",
   "name": "python",
   "nbconvert_exporter": "python",
   "pygments_lexer": "ipython3",
   "version": "3.9.15"
  },
  "orig_nbformat": 4
 },
 "nbformat": 4,
 "nbformat_minor": 2
}
