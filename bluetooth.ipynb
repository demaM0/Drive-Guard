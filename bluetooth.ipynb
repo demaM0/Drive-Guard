{
 "cells": [
  {
   "cell_type": "code",
   "execution_count": 2,
   "metadata": {},
   "outputs": [
    {
     "name": "stdout",
     "output_type": "stream",
     "text": [
      "found 2 devices\n",
      " FC:8F:90:2D:B4:5C - \n",
      " B8:53:AC:35:56:DB - iPhone\n"
     ]
    }
   ],
   "source": [
    "import bluetooth\n",
    "nearby_devices = bluetooth.discover_devices(lookup_names=True)\n",
    "print(\"found %d devices\" % len(nearby_devices))\n",
    "\n",
    "for addr, name in nearby_devices:\n",
    "    f = open(\"myfile.txt\", \"w\")\n",
    "    f.write(\" %s - %s\" % (addr, name))\n",
    "    f.close()\n",
    "    print(\" %s - %s\" % (addr, name))"
   ]
  },
  {
   "cell_type": "code",
   "execution_count": 3,
   "metadata": {},
   "outputs": [
    {
     "name": "stdout",
     "output_type": "stream",
     "text": [
      "device connected\n"
     ]
    }
   ],
   "source": [
    "import socket\n",
    "import pickle \n",
    "soc = socket.socket()\n",
    "hostname=\"localhost\"# 127.0.0.1 #0.0.0.0\n",
    "port=65434\n",
    "\n",
    "soc.bind((hostname,port))\n",
    "soc.listen(5)\n",
    "conn , addre = soc.accept()\n",
    "print(\"device connected\")\n",
    "\n",
    "while True :\n",
    "    \n",
    "    msg = pickle.dumps(nearby_devices)\n",
    "    conn.send(msg)\n",
    "    msg=pickle.dumps\n",
    "    break"
   ]
  }
 ],
 "metadata": {
  "kernelspec": {
   "display_name": "tf",
   "language": "python",
   "name": "python3"
  },
  "language_info": {
   "codemirror_mode": {
    "name": "ipython",
    "version": 3
   },
   "file_extension": ".py",
   "mimetype": "text/x-python",
   "name": "python",
   "nbconvert_exporter": "python",
   "pygments_lexer": "ipython3",
   "version": "3.9.15"
  },
  "orig_nbformat": 4
 },
 "nbformat": 4,
 "nbformat_minor": 2
}
